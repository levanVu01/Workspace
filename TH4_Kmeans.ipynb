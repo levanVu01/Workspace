{
  "nbformat": 4,
  "nbformat_minor": 0,
  "metadata": {
    "colab": {
      "provenance": [],
      "include_colab_link": true
    },
    "kernelspec": {
      "name": "python3",
      "display_name": "Python 3"
    },
    "language_info": {
      "name": "python"
    }
  },
  "cells": [
    {
      "cell_type": "markdown",
      "metadata": {
        "id": "view-in-github",
        "colab_type": "text"
      },
      "source": [
        "<a href=\"https://colab.research.google.com/github/levanVu01/Workspace/blob/main/TH4_Kmeans.ipynb\" target=\"_parent\"><img src=\"https://colab.research.google.com/assets/colab-badge.svg\" alt=\"Open In Colab\"/></a>"
      ]
    },
    {
      "cell_type": "code",
      "source": [
        "import numpy as np\n",
        "from google.colab import drive\n",
        "drive.mount('/gdrive')\n"
      ],
      "metadata": {
        "colab": {
          "base_uri": "https://localhost:8080/"
        },
        "id": "AsKVh2mC-LHo",
        "outputId": "eac5af58-86f3-44cd-b78c-b82c7b16fafd"
      },
      "execution_count": null,
      "outputs": [
        {
          "output_type": "stream",
          "name": "stdout",
          "text": [
            "Mounted at /gdrive\n"
          ]
        }
      ]
    },
    {
      "cell_type": "code",
      "execution_count": null,
      "metadata": {
        "id": "i_uOEkTj-FqE"
      },
      "outputs": [],
      "source": [
        "import matplotlib.pyplot as plt\n",
        "from sklearn.cluster import KMeans\n",
        "import numpy as np \n",
        "import pandas as pd \n",
        "import array"
      ]
    },
    {
      "cell_type": "code",
      "source": [
        "df = pd.read_csv('/gdrive/MyDrive/Colab Notebooks/KhaiPhaDuLieu/Data/data_TH4.csv')\n",
        "x = np.array(df['can nang'])\n",
        "y = np.array(df['do chin'])\n"
      ],
      "metadata": {
        "id": "ZyNRZTNy-myZ"
      },
      "execution_count": null,
      "outputs": []
    },
    {
      "cell_type": "code",
      "source": [
        "data = list(zip(x, y))\n",
        "print(data)\n",
        "\n"
      ],
      "metadata": {
        "colab": {
          "base_uri": "https://localhost:8080/"
        },
        "id": "lsK8kQeLDfHh",
        "outputId": "60587b9d-64bd-40a1-f764-95175e346fd8"
      },
      "execution_count": null,
      "outputs": [
        {
          "output_type": "stream",
          "name": "stdout",
          "text": [
            "[(1, 1), (2, 2), (4, 1), (7, 8), (2, 5), (3, 4), (8, 8), (9, 9), (9, 7)]\n"
          ]
        }
      ]
    },
    {
      "cell_type": "code",
      "source": [
        "#Tìm giá trị k tốt nhất\n",
        "inertias = []\n",
        "n =len(data)+1\n",
        "for i in range(1,n):\n",
        "    kmeans = KMeans(n_clusters=i)\n",
        "    kmeans.fit(data)\n",
        "    inertias.append(kmeans.inertia_)\n",
        "\n",
        "plt.plot(range(1,n), inertias, marker='o')\n",
        "plt.title('Elbow method')\n",
        "plt.xlabel('Number of clusters')\n",
        "plt.ylabel('Inertia')\n",
        "plt.show()"
      ],
      "metadata": {
        "colab": {
          "base_uri": "https://localhost:8080/",
          "height": 295
        },
        "id": "vI0EZNkF-0-5",
        "outputId": "fc795307-579a-4397-b5e9-d0ca70274107"
      },
      "execution_count": null,
      "outputs": [
        {
          "output_type": "display_data",
          "data": {
            "text/plain": [
              "<Figure size 432x288 with 1 Axes>"
            ],
            "image/png": "[encoded data removed]"
          },
          "metadata": {
            "needs_background": "light"
          }
        }
      ]
    },
    {
      "cell_type": "code",
      "source": [
        "#chọn k = 2 theo đề bài\n",
        "kmeans = KMeans(n_clusters=2)\n",
        "kmeans.fit(data)\n",
        "plt.scatter(x, y, c=kmeans.labels_)\n",
        "plt.title('K-Means')\n",
        "plt.xlabel('Cân nặng')\n",
        "plt.ylabel('Độ chín')\n",
        "plt.show()"
      ],
      "metadata": {
        "colab": {
          "base_uri": "https://localhost:8080/",
          "height": 296
        },
        "id": "r7zHOUT--1oZ",
        "outputId": "914f7cc6-c9c3-447f-9366-558f2d7026b5"
      },
      "execution_count": null,
      "outputs": [
        {
          "output_type": "display_data",
          "data": {
            "text/plain": [
              "<Figure size 432x288 with 1 Axes>"
            ],
            "image/png": "[encoded data removed]"
          },
          "metadata": {
            "needs_background": "light"
          }
        }
      ]
    }
  ]
}